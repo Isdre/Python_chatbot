{
 "cells": [
  {
   "cell_type": "code",
   "execution_count": 52,
   "id": "3c7ecd0a",
   "metadata": {},
   "outputs": [
    {
     "name": "stdout",
     "output_type": "stream",
     "text": [
      "[{'tag': 'przywitanie', 'examples': ['cześć', 'czesc', 'siema', 'witaj', 'dzień dobry', 'dobry wieczór', 'dzien dobry', 'dobry wieczor'], 'responses': ['cześć', 'siema', 'witaj', 'dzień dobry', 'dobry wieczór']}, {'tag': 'pożegnianie', 'examples': ['żegnaj', 'zegnaj', 'spadam', 'idę', 'ide', 'dowidzenia', 'nara', 'pa'], 'responses': ['żegnaj', 'siema', 'witaj', 'cześć']}, {'tag': 'coto', 'examples': ['czym jesteś', 'co to', 'czym jestes', 'kim jesteś', 'kim jestes'], 'responses': ['jestem chatbotem']}, {'tag': 'pogoda', 'examples': ['pada', 'pada deszcz', 'jest upał', 'jest zimno', 'burza', 'pioruny', 'błyskawice', 'wiatr', 'wichura', 'pada śnieg', 'śnieg', 'wichura'], 'responses': ['ja nie mam takich problemów', 'fajnie by było poczuć pogodę', 'zazdroszczę']}]\n"
     ]
    }
   ],
   "source": [
    "import json\n",
    "\n",
    "with open(\"blabbermouth.json\",encoding='utf8') as f:\n",
    "    data = json.load(f)[\"talks\"]\n",
    "\n",
    "print(data)"
   ]
  },
  {
   "cell_type": "code",
   "execution_count": 53,
   "id": "da8f0c35",
   "metadata": {},
   "outputs": [],
   "source": [
    "class Talk:\n",
    "    def __init__(self,example,tag):\n",
    "        self.example = example\n",
    "        self.tag = tag"
   ]
  },
  {
   "cell_type": "code",
   "execution_count": 54,
   "id": "cf5aefb2",
   "metadata": {},
   "outputs": [],
   "source": [
    "traing_data = []\n",
    "responses = {}\n",
    "for item in data:\n",
    "    tag = item[\"tag\"]\n",
    "    for example in item[\"examples\"]:\n",
    "        t = Talk(example,tag)\n",
    "        traing_data.append(t)\n",
    "    responses[tag] = item[\"responses\"]"
   ]
  },
  {
   "cell_type": "code",
   "execution_count": 55,
   "id": "7086e276",
   "metadata": {},
   "outputs": [],
   "source": [
    "# print(traing_data)\n",
    "x_train = [x.example for x in traing_data]\n",
    "y_train = [y.tag for y in traing_data]\n",
    "# print(y_train)"
   ]
  },
  {
   "cell_type": "code",
   "execution_count": 56,
   "id": "00ffb397",
   "metadata": {},
   "outputs": [
    {
     "name": "stdout",
     "output_type": "stream",
     "text": [
      "  (0, 4)\t1\n"
     ]
    }
   ],
   "source": [
    "from sklearn.feature_extraction.text import CountVectorizer\n",
    "\n",
    "vectorizer = CountVectorizer()\n",
    "\n",
    "train_x = vectorizer.fit_transform(x_train)\n",
    "\n",
    "print(train_x[0])"
   ]
  },
  {
   "cell_type": "code",
   "execution_count": 57,
   "id": "2832d702",
   "metadata": {},
   "outputs": [
    {
     "name": "stdout",
     "output_type": "stream",
     "text": [
      "  (0, 29)\t1\n",
      "['przywitanie']\n"
     ]
    }
   ],
   "source": [
    "from sklearn import svm\n",
    "clf_svc = svm.SVC(kernel=\"linear\")\n",
    "\n",
    "clf_svc.fit(train_x,y_train)\n",
    "test = vectorizer.transform([\"witaj\"])\n",
    "print(test)\n",
    "prediction = clf_svc.predict(test)\n",
    "print(prediction)"
   ]
  },
  {
   "cell_type": "code",
   "execution_count": 58,
   "id": "c8f3b42e",
   "metadata": {},
   "outputs": [
    {
     "data": {
      "text/plain": [
       "['chatbot.joblib']"
      ]
     },
     "execution_count": 58,
     "metadata": {},
     "output_type": "execute_result"
    }
   ],
   "source": [
    "import joblib\n",
    "joblib.dump(clf_svc,\"chatbot.joblib\")"
   ]
  }
 ],
 "metadata": {
  "kernelspec": {
   "display_name": "Python 3 (ipykernel)",
   "language": "python",
   "name": "python3"
  },
  "language_info": {
   "codemirror_mode": {
    "name": "ipython",
    "version": 3
   },
   "file_extension": ".py",
   "mimetype": "text/x-python",
   "name": "python",
   "nbconvert_exporter": "python",
   "pygments_lexer": "ipython3",
   "version": "3.9.12"
  }
 },
 "nbformat": 4,
 "nbformat_minor": 5
}
