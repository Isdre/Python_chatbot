{
 "cells": [
  {
   "cell_type": "code",
   "execution_count": 65,
   "id": "3aad45fd",
   "metadata": {},
   "outputs": [
    {
     "name": "stdout",
     "output_type": "stream",
     "text": [
      "[{'tag': 'przywitanie', 'examples': ['cześć', 'czesc', 'siema', 'witaj', 'dzień dobry', 'dobry wieczór', 'dzien dobry', 'dobry wieczor'], 'responses': ['cześć', 'siema', 'witaj', 'dzień dobry', 'dobry wieczór']}, {'tag': 'pożegnianie', 'examples': ['żegnaj', 'zegnaj', 'spadam', 'idę', 'ide', 'dowidzenia', 'nara', 'pa'], 'responses': ['żegnaj', 'siema', 'witaj', 'cześć']}, {'tag': 'coto', 'examples': ['czym jesteś', 'co to', 'czym jestes', 'kim jesteś', 'kim jestes'], 'responses': ['jestem chatbotem']}, {'tag': 'pogoda', 'examples': ['pada', 'pada deszcz', 'jest upał', 'jest zimno', 'burza', 'pioruny', 'błyskawice', 'wiatr', 'wichura', 'pada śnieg', 'śnieg', 'wichura'], 'responses': ['ja nie mam takich problemów', 'fajnie by było poczuć pogodę', 'zazdroszczę']}]\n"
     ]
    }
   ],
   "source": [
    "import json\n",
    "\n",
    "with open(\"blabbermouth.json\",encoding='UTF-8') as f:\n",
    "    data = json.load(f)[\"talks\"]\n",
    "\n",
    "print(data)"
   ]
  },
  {
   "cell_type": "code",
   "execution_count": 66,
   "id": "db1b1e48",
   "metadata": {},
   "outputs": [],
   "source": [
    "class Talk:\n",
    "    def __init__(self,example,tag):\n",
    "        self.example = example\n",
    "        self.tag = tag"
   ]
  },
  {
   "cell_type": "code",
   "execution_count": 67,
   "id": "85d6bc9d",
   "metadata": {},
   "outputs": [],
   "source": [
    "traing_data = []\n",
    "responses = {}\n",
    "for item in data:\n",
    "    tag = item[\"tag\"]\n",
    "    for example in item[\"examples\"]:\n",
    "        t = Talk(example,tag)\n",
    "        traing_data.append(t)\n",
    "    responses[tag] = item[\"responses\"]"
   ]
  },
  {
   "cell_type": "code",
   "execution_count": 68,
   "id": "3fcc25a9",
   "metadata": {},
   "outputs": [],
   "source": [
    "# print(traing_data)\n",
    "x_train = [x.example for x in traing_data]\n",
    "y_train = [y.tag for y in traing_data]\n",
    "# print(y_train)"
   ]
  },
  {
   "cell_type": "code",
   "execution_count": 69,
   "id": "a79f2c40",
   "metadata": {},
   "outputs": [
    {
     "name": "stdout",
     "output_type": "stream",
     "text": [
      "  (0, 4)\t1\n"
     ]
    }
   ],
   "source": [
    "from sklearn.feature_extraction.text import CountVectorizer\n",
    "\n",
    "vectorizer = CountVectorizer()\n",
    "\n",
    "train_x = vectorizer.fit_transform(x_train)\n",
    "\n",
    "print(train_x[0])"
   ]
  },
  {
   "cell_type": "code",
   "execution_count": 70,
   "id": "2d464352",
   "metadata": {},
   "outputs": [
    {
     "name": "stdout",
     "output_type": "stream",
     "text": [
      "  (0, 4)\t1\n",
      "['przywitanie']\n"
     ]
    }
   ],
   "source": [
    "from sklearn import svm\n",
    "clf_svc = svm.SVC(kernel=\"linear\")\n",
    "\n",
    "clf_svc.fit(train_x,y_train)\n",
    "test = vectorizer.transform([\"cześć, mam na imię Gilbert\"])\n",
    "print(test)\n",
    "prediction = clf_svc.predict(test)\n",
    "print(prediction)"
   ]
  },
  {
   "cell_type": "code",
   "execution_count": 72,
   "id": "358b6b7e",
   "metadata": {},
   "outputs": [
    {
     "name": "stdout",
     "output_type": "stream",
     "text": [
      "{'przywitanie': ['cześć', 'siema', 'witaj', 'dzień dobry', 'dobry wieczór'], 'pożegnianie': ['żegnaj', 'siema', 'witaj', 'cześć'], 'coto': ['jestem chatbotem'], 'pogoda': ['ja nie mam takich problemów', 'fajnie by było poczuć pogodę', 'zazdroszczę']}\n"
     ]
    }
   ],
   "source": [
    "import joblib\n",
    "joblib.dump(clf_svc,\"chatbot.joblib\")\n",
    "with open(\"responses.json\",\"w\",encoding='UTF-8') as f:\n",
    "    json.dump(responses,f)\n",
    "# with open(\"responses.json\",\"r\",encoding='UTF-8') as f:\n",
    "#     print(json.load(f))"
   ]
  }
 ],
 "metadata": {
  "kernelspec": {
   "display_name": "Python 3 (ipykernel)",
   "language": "python",
   "name": "python3"
  },
  "language_info": {
   "codemirror_mode": {
    "name": "ipython",
    "version": 3
   },
   "file_extension": ".py",
   "mimetype": "text/x-python",
   "name": "python",
   "nbconvert_exporter": "python",
   "pygments_lexer": "ipython3",
   "version": "3.9.12"
  }
 },
 "nbformat": 4,
 "nbformat_minor": 5
}
