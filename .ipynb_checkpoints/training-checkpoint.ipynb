{
 "cells": [
  {
   "cell_type": "code",
   "execution_count": 12,
   "id": "c33b0429",
   "metadata": {},
   "outputs": [
    {
     "name": "stdout",
     "output_type": "stream",
     "text": [
      "[{'tag': 'przywitanie', 'examples': ['cześć', 'czesc', 'siema', 'witaj', 'dzień dobry', 'dobry wieczór', 'dzien dobry', 'dobry wieczor'], 'responses': ['cześć', 'siema', 'witaj', 'dzień dobry', 'dobry wieczór']}, {'tag': 'pożegnianie', 'examples': ['żegnaj', 'zegnaj', 'spadam', 'idę', 'ide', 'dowidzenia', 'nara', 'pa'], 'responses': ['żegnaj', 'siema', 'witaj', 'cześć']}, {'tag': 'coto', 'examples': ['czym jesteś', 'co to', 'czym jestes', 'kim jesteś', 'kim jestes'], 'responses': ['jestem chatbotem']}, {'tag': 'pogoda', 'examples': ['pada', 'pada deszcz', 'jest upał', 'jest zimno', 'burza', 'pioruny', 'błyskawice', 'wiatr', 'wichura', 'pada śnieg', 'śnieg', 'wichura'], 'responses': ['ja nie mam takich problemów', 'fajnie by było poczuć pogodę', 'zazdroszczę']}]\n"
     ]
    }
   ],
   "source": [
    "import json\n",
    "\n",
    "with open(\"blabbermouth.json\",encoding='utf8') as f:\n",
    "    data = json.load(f)[\"talks\"]\n",
    "\n",
    "print(data)"
   ]
  },
  {
   "cell_type": "code",
   "execution_count": 13,
   "id": "55be0636",
   "metadata": {},
   "outputs": [],
   "source": [
    "class Talk:\n",
    "    def __init__(self,example,tag):\n",
    "        self.example = example\n",
    "        self.tag = tag"
   ]
  },
  {
   "cell_type": "code",
   "execution_count": 14,
   "id": "54483c7c",
   "metadata": {},
   "outputs": [],
   "source": [
    "traing_data = []\n",
    "responses = {}\n",
    "for item in data:\n",
    "    tag = item[\"tag\"]\n",
    "    for example in item[\"examples\"]:\n",
    "        traing_data.append(Talk(example,tag))\n",
    "    responses[tag] = item[\"responses\"]"
   ]
  },
  {
   "cell_type": "code",
   "execution_count": 18,
   "id": "c22d3ac4",
   "metadata": {},
   "outputs": [
    {
     "name": "stdout",
     "output_type": "stream",
     "text": [
      "['przywitanie', 'przywitanie', 'przywitanie', 'przywitanie', 'przywitanie', 'przywitanie', 'przywitanie', 'przywitanie', 'pożegnianie', 'pożegnianie', 'pożegnianie', 'pożegnianie', 'pożegnianie', 'pożegnianie', 'pożegnianie', 'pożegnianie', 'coto', 'coto', 'coto', 'coto', 'coto', 'pogoda', 'pogoda', 'pogoda', 'pogoda', 'pogoda', 'pogoda', 'pogoda', 'pogoda', 'pogoda', 'pogoda', 'pogoda', 'pogoda']\n"
     ]
    }
   ],
   "source": [
    "# print(traing_data)\n",
    "x_train = [x.example for x in traing_data]\n",
    "y_train = [y.tag for y in traing_data]\n",
    "# print(y_train)"
   ]
  },
  {
   "cell_type": "code",
   "execution_count": 20,
   "id": "1eda85cf",
   "metadata": {},
   "outputs": [
    {
     "name": "stdout",
     "output_type": "stream",
     "text": [
      "  (0, 4)\t1\n"
     ]
    }
   ],
   "source": [
    "from sklearn.feature_extraction.text import CountVectorizer\n",
    "\n",
    "vectorizer = CountVectorizer()\n",
    "\n",
    "train_x = vectorizer.fit_transform(x_train)\n",
    "\n",
    "print(train_x[0])"
   ]
  },
  {
   "cell_type": "code",
   "execution_count": 29,
   "id": "0feba92b",
   "metadata": {},
   "outputs": [
    {
     "ename": "ValueError",
     "evalue": "Iterable over raw text documents expected, string object received.",
     "output_type": "error",
     "traceback": [
      "\u001b[1;31m---------------------------------------------------------------------------\u001b[0m",
      "\u001b[1;31mValueError\u001b[0m                                Traceback (most recent call last)",
      "Input \u001b[1;32mIn [29]\u001b[0m, in \u001b[0;36m<cell line: 5>\u001b[1;34m()\u001b[0m\n\u001b[0;32m      2\u001b[0m clf_svc \u001b[38;5;241m=\u001b[39m svm\u001b[38;5;241m.\u001b[39mSVC(kernel\u001b[38;5;241m=\u001b[39m\u001b[38;5;124m\"\u001b[39m\u001b[38;5;124mlinear\u001b[39m\u001b[38;5;124m\"\u001b[39m)\n\u001b[0;32m      4\u001b[0m clf_svc\u001b[38;5;241m.\u001b[39mfit(train_x,y_train)\n\u001b[1;32m----> 5\u001b[0m test \u001b[38;5;241m=\u001b[39m \u001b[43mvectorizer\u001b[49m\u001b[38;5;241;43m.\u001b[39;49m\u001b[43mtransform\u001b[49m\u001b[43m(\u001b[49m\u001b[38;5;124;43m\"\u001b[39;49m\u001b[38;5;124;43mwitaj\u001b[39;49m\u001b[38;5;124;43m\"\u001b[39;49m\u001b[43m)\u001b[49m\n\u001b[0;32m      6\u001b[0m \u001b[38;5;28mprint\u001b[39m(test)\n\u001b[0;32m      7\u001b[0m prediction \u001b[38;5;241m=\u001b[39m clf_svc\u001b[38;5;241m.\u001b[39mpredict(test)\n",
      "File \u001b[1;32m~\\anaconda3\\lib\\site-packages\\sklearn\\feature_extraction\\text.py:1373\u001b[0m, in \u001b[0;36mCountVectorizer.transform\u001b[1;34m(self, raw_documents)\u001b[0m\n\u001b[0;32m   1357\u001b[0m \u001b[38;5;124;03m\"\"\"Transform documents to document-term matrix.\u001b[39;00m\n\u001b[0;32m   1358\u001b[0m \n\u001b[0;32m   1359\u001b[0m \u001b[38;5;124;03mExtract token counts out of raw text documents using the vocabulary\u001b[39;00m\n\u001b[1;32m   (...)\u001b[0m\n\u001b[0;32m   1370\u001b[0m \u001b[38;5;124;03m    Document-term matrix.\u001b[39;00m\n\u001b[0;32m   1371\u001b[0m \u001b[38;5;124;03m\"\"\"\u001b[39;00m\n\u001b[0;32m   1372\u001b[0m \u001b[38;5;28;01mif\u001b[39;00m \u001b[38;5;28misinstance\u001b[39m(raw_documents, \u001b[38;5;28mstr\u001b[39m):\n\u001b[1;32m-> 1373\u001b[0m     \u001b[38;5;28;01mraise\u001b[39;00m \u001b[38;5;167;01mValueError\u001b[39;00m(\n\u001b[0;32m   1374\u001b[0m         \u001b[38;5;124m\"\u001b[39m\u001b[38;5;124mIterable over raw text documents expected, string object received.\u001b[39m\u001b[38;5;124m\"\u001b[39m\n\u001b[0;32m   1375\u001b[0m     )\n\u001b[0;32m   1376\u001b[0m \u001b[38;5;28mself\u001b[39m\u001b[38;5;241m.\u001b[39m_check_vocabulary()\n\u001b[0;32m   1378\u001b[0m \u001b[38;5;66;03m# use the same matrix-building strategy as fit_transform\u001b[39;00m\n",
      "\u001b[1;31mValueError\u001b[0m: Iterable over raw text documents expected, string object received."
     ]
    }
   ],
   "source": [
    "from sklearn import svm\n",
    "clf_svc = svm.SVC(kernel=\"linear\")\n",
    "\n",
    "clf_svc.fit(train_x,y_train)\n",
    "test = vectorizer.transform([\"witaj\"])\n",
    "print(test)\n",
    "prediction = clf_svc.predict(test)"
   ]
  }
 ],
 "metadata": {
  "kernelspec": {
   "display_name": "Python 3 (ipykernel)",
   "language": "python",
   "name": "python3"
  },
  "language_info": {
   "codemirror_mode": {
    "name": "ipython",
    "version": 3
   },
   "file_extension": ".py",
   "mimetype": "text/x-python",
   "name": "python",
   "nbconvert_exporter": "python",
   "pygments_lexer": "ipython3",
   "version": "3.9.12"
  }
 },
 "nbformat": 4,
 "nbformat_minor": 5
}
